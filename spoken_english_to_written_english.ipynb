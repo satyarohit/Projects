{
  "nbformat": 4,
  "nbformat_minor": 0,
  "metadata": {
    "colab": {
      "name": "spoken english to written english.ipynb",
      "provenance": [],
      "collapsed_sections": []
    },
    "kernelspec": {
      "name": "python3",
      "display_name": "Python 3"
    }
  },
  "cells": [
    {
      "cell_type": "markdown",
      "metadata": {
        "id": "1HaAo5fhsjLd"
      },
      "source": [
        "#Creating Rules for the Numbers,Tuples,Generals!!\n"
      ]
    },
    {
      "cell_type": "code",
      "metadata": {
        "id": "KOSxuGxdnLFW"
      },
      "source": [
        "def fetch_rules():\n",
        "    rules = {\"Numbers\":{\"zero\": 0,\n",
        "                        \"one\" : 1,\n",
        "                        \"two\": 2,\n",
        "                        \"three\": 3,\n",
        "                        \"four\": 4,\n",
        "                        \"five\": 5,\n",
        "                        \"six\": 6,\n",
        "                        \"seven\": 7,\n",
        "                        \"eight\": 8,\n",
        "                        \"nine\": 9,\n",
        "                        \"ten\": 10,\n",
        "                        \"twenty\": 20,\n",
        "                        \"thirty\": 30,\n",
        "                        \"forty\": 40,\n",
        "                        \"fifty\": 50,\n",
        "                        \"sixty\": 60,\n",
        "                        \"seventy\": 70,\n",
        "                        \"eighty\": 80,\n",
        "                        \"ninety\": 90,\n",
        "                        \"hundred\": 100\n",
        "                        },\n",
        "            \"Tuples\": {\"single\":1,\n",
        "                         \"double\":2,\n",
        "                         \"triple\":3,\n",
        "                         \"quadruple\":4,\n",
        "                         \"quintuple\":5,\n",
        "                         \"sextuple\":6,\n",
        "                         \"septuple\":7,\n",
        "                         \"octuple\":8,\n",
        "                         \"nonuple\":9,\n",
        "                         \"decuple\":10\n",
        "                      },\n",
        "            \"General\": {\n",
        "                          \"C M\": \"CM\",\n",
        "                          \"P M\": \"PM\",\n",
        "                          \"D M\": \"DM\",\n",
        "                          \"A M\": \"AM\",\n",
        "                          \"G M\": \"GM\"\n",
        "                          \n",
        "                       }\n",
        "            }\n",
        "    return rules\n",
        "#checking if word for comma and dot and returning the words!!\n",
        "def front_end(word):\n",
        "    front=\"\"\n",
        "    end=\"\"\n",
        "    if(len(word)>1):\n",
        "        if word[-1]==',' or word[-1]=='.':\n",
        "            end=word[-1]\n",
        "            word=word[:-1]\n",
        "        if word[0]==',' or word[0]=='.':\n",
        "            front=word[0]\n",
        "            word=word[1:]\n",
        "    return front,word,end\n",
        "\n",
        "def convert():\n",
        "    obj_spoken=speaking_class()\n",
        "    obj_spoken.take_input()\n",
        "    obj_spoken.Convert()\n",
        "    obj_spoken.output()"
      ],
      "execution_count": 16,
      "outputs": []
    },
    {
      "cell_type": "code",
      "metadata": {
        "id": "zGfei7Ign7xr"
      },
      "source": [
        "\n",
        "class speaking_class:\n",
        "\n",
        "    def __init__(self):\n",
        "\n",
        "        self.rules=fetch_rules()\n",
        "        self.paragraph=\"\"\n",
        "        self.output_para=\"\"\n",
        "    def take_input(self):\n",
        "        self.paragraph=input(\"\\n[INPUT]:Enter a paragraph of your spoken english:\\n\\t\")\n",
        "        if not self.paragraph:\n",
        "            raise ValueError(\"[Error]:This is not valid input please enter something\")\n",
        "    def output(self):\n",
        "        print(\"\\n[OUTPUT]:The input Spoken English Paragraph: \\n\\n \\\" \"+ self.paragraph+\"\\\"\")\n",
        "        print(\"\\nConverted Written English Paragraph: \\n\\n \\\"\" +self.output_para+\"\\\"\")\n",
        "    def Convert(self):\n",
        "        #splitting paragraph into individual words\n",
        "        words_of_para=self.paragraph.split()\n",
        "\n",
        "        #accessing defines rules\n",
        "        numbers=self.rules['Numbers']\n",
        "        tuples=self.rules['Tuples']\n",
        "        general=self.rules['General']\n",
        "        i=0\n",
        "        no_of_words=len(words_of_para)\n",
        "        #print(no_of_words)\n",
        "        #no_of_words: number of words in paragraph \n",
        "        while i<no_of_words: \n",
        "            front,word,last=front_end(words_of_para[i])#if input words are form \",dollars.\" \n",
        "            #print(front)\n",
        "            #print(word)\n",
        "            #print(last)\n",
        "            if i+1!= no_of_words:\n",
        "                front_n,next_word,last_n=front_end(words_of_para[i+1])#if words contains: Two,Three,Four etc\n",
        "                #print(next_word)\n",
        "                if word.lower() in numbers.keys() and (next_word.lower()=='dollars' or next_word.lower()=='dollar'):\n",
        "                    self.output_para=self.output_para+\" \"+front+\"$\"+str(numbers[word.lower()])+last\n",
        "                    i=i+2\n",
        "                elif word.lower() in tuples.keys() and len(next_word)==1:##when INPUT word is like: \"Triple A\"\n",
        "                    self.output_para=self.output_para+\" \"+front_n+(next_word*tuples[word.lower()])+last_n\n",
        "                    i=i+2\n",
        "                elif (word+\" \"+next_word) in general.keys():#if INPUT word is like short form:C M\n",
        "                    self.output_para=self.output_para+\" \"+front+word+next_word+last_n\n",
        "                    i=i+2\n",
        "                elif word.lower() in numbers.keys() and next_word.lower() in numbers.keys():#when input is like :thirty three\n",
        "                    self.output_para =self.output_para+\" \"+front+\" \"+str(numbers[word.lower()]+numbers[next_word.lower()])+last_n\n",
        "                    i=i+2\n",
        "                else:\n",
        "                    self.output_para=self.output_para+\" \"+words_of_para[i]\n",
        "                    i=i+1\n",
        "            else:\n",
        "                self.output_para=self.output_para+\" \"+words_of_para[i]\n",
        "                i=i+1\n",
        "\n"
      ],
      "execution_count": 66,
      "outputs": []
    },
    {
      "cell_type": "markdown",
      "metadata": {
        "id": "uhLbdb8Brr72"
      },
      "source": [
        "#RUN this section to get the output!"
      ]
    },
    {
      "cell_type": "code",
      "metadata": {
        "id": "e_955aKgoMKr",
        "outputId": "b2f315f6-f4d1-4c74-bbbb-dfc6ebe327b1",
        "colab": {
          "base_uri": "https://localhost:8080/",
          "height": 204
        }
      },
      "source": [
        "#FUNCTION TO CALL\n",
        "'''\n",
        "sample sentence to run\n",
        "Triple A:AAA\n",
        "give me thirty dollars: give me $30\"\n",
        "I wake up before 6 A M. : I wake up before 6 AM. \n",
        "Please write my Mobile number as double 9, quadruple 3, single 5 and double 4: Please write my Mobile number as 99, 3333, 5 and 44\n",
        "thirty two and fifty five: 32 and  55\n",
        "'''\n",
        "convert()\n"
      ],
      "execution_count": 68,
      "outputs": [
        {
          "output_type": "stream",
          "text": [
            "\n",
            "[INPUT]:Enter a paragraph of your spoken english:\n",
            "\tthirty two and fifty five\n",
            "\n",
            "[OUTPUT]:The input Spoken English Paragraph: \n",
            "\n",
            " \" thirty two and fifty five\"\n",
            "\n",
            "Converted Written English Paragraph: \n",
            "\n",
            " \"  32 and  55\"\n"
          ],
          "name": "stdout"
        }
      ]
    },
    {
      "cell_type": "code",
      "metadata": {
        "id": "buQFy1nTABq6"
      },
      "source": [
        ""
      ],
      "execution_count": null,
      "outputs": []
    }
  ]
}